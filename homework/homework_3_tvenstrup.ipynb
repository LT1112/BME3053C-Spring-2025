{
  "cells": [
    {
      "cell_type": "markdown",
      "metadata": {
        "id": "view-in-github",
        "colab_type": "text"
      },
      "source": [
        "<a href=\"https://colab.research.google.com/github/LT1112/BME3053C-Spring-2025/blob/main/homework/homework_3_tvenstrup.ipynb\" target=\"_parent\"><img src=\"https://colab.research.google.com/assets/colab-badge.svg\" alt=\"Open In Colab\"/></a>"
      ]
    },
    {
      "cell_type": "markdown",
      "metadata": {
        "id": "zxMSBUaZoKCY"
      },
      "source": [
        "\\\\# BME3053C - Homework 3\n",
        "\n",
        "<br/>\n",
        "\n",
        "<h1 align=\"center\">Homework 3</h1>\n",
        "\n",
        "---\n",
        "\n",
        "<center><h2>Liam Tvenstrup</h2></center>\n",
        "\n",
        "\n",
        "[![Open In Colab](https://colab.research.google.com/assets/colab-badge.svg)](https://colab.research.google.com/github/uf-bme/BME3053C-Spring-2025/blob/main/lessons/02_Python_Basics.ipynb)"
      ]
    },
    {
      "cell_type": "markdown",
      "metadata": {
        "id": "QPtjGMBnTz9s"
      },
      "source": [
        "Solution to Task 1:"
      ]
    },
    {
      "cell_type": "code",
      "execution_count": 1,
      "metadata": {
        "id": "Ep8bnfvZaoUj",
        "colab": {
          "base_uri": "https://localhost:8080/"
        },
        "outputId": "fe3c7eef-20fe-44d0-a0bd-e96813781446"
      },
      "outputs": [
        {
          "output_type": "stream",
          "name": "stdout",
          "text": [
            "Total number of peaks: 25\n"
          ]
        }
      ],
      "source": [
        "\n",
        "import math\n",
        "import random\n",
        "\n",
        "ppg_signal = [1000 + 100 * math.sin(0.1 * x) + random.randint(-20, 20) for x in range(100)]\n",
        "\n",
        "\n",
        "def identify_peaks(ppg_signal):\n",
        "  peak_count = 0\n",
        "  for i in range (1, len(ppg_signal) - 1):\n",
        "    if ppg_signal[i] > ppg_signal[i - 1] and ppg_signal[i] > ppg_signal[i + 1]:\n",
        "      peak_count += 1\n",
        "\n",
        "  print(\"Total number of peaks:\", peak_count)\n",
        "\n",
        "\n",
        "identify_peaks(ppg_signal)\n"
      ]
    }
  ],
  "metadata": {
    "colab": {
      "provenance": [],
      "include_colab_link": true
    },
    "kernelspec": {
      "display_name": "Python 3.9.7 64-bit",
      "language": "python",
      "name": "python3"
    },
    "language_info": {
      "codemirror_mode": {
        "name": "ipython",
        "version": 3
      },
      "file_extension": ".py",
      "mimetype": "text/x-python",
      "name": "python",
      "nbconvert_exporter": "python",
      "pygments_lexer": "ipython3",
      "version": "3.12.7"
    },
    "orig_nbformat": 4,
    "vscode": {
      "interpreter": {
        "hash": "5974ac25dc9be56ffc04c26f1dcea484687dd3721d1ee5a9c3f4a235d03fe9b9"
      }
    }
  },
  "nbformat": 4,
  "nbformat_minor": 0
}